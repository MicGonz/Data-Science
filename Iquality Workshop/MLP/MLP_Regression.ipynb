{
 "cells": [
  {
   "cell_type": "markdown",
   "metadata": {
    "executionInfo": {
     "elapsed": 27,
     "status": "ok",
     "timestamp": 1625179243816,
     "user": {
      "displayName": "Michel Gonzaga",
      "photoUrl": "https://lh3.googleusercontent.com/a-/AOh14GjbmH4NxgO28Jq4KWHoXW8J01KcWIgw4A_D_7qdEro=s64",
      "userId": "10490419405013025838"
     },
     "user_tz": -120
    },
    "id": "2oZnCKwvOYoP"
   },
   "source": [
    "## 📍 Fortaleza, July 02, 2021\n",
    "\n",
    "**Author:** Michel Gonzaga dos Santos\n",
    "\n",
    "---\n",
    "\n",
    "# 🏠 The Boston Housing Dataset\n",
    "\n",
    "The **Boston Housing Dataset** is derived from information collected by the U.S. Census Service concerning housing in the area of Boston, MA. It has been widely used as a benchmark in regression tasks in machine learning.\n",
    "\n",
    "Below is a description of the dataset's columns:\n",
    "\n",
    "- **CRIM**: Per capita crime rate by town\n",
    "- **ZN**: Proportion of residential land zoned for lots over 25,000 sq.ft.\n",
    "- **INDUS**: Proportion of non-retail business acres per town\n",
    "- **CHAS**: Charles River dummy variable (1 if tract bounds river; 0 otherwise)\n",
    "- **NOX**: Nitric oxides concentration (parts per 10 million)\n",
    "- **RM**: Average number of rooms per dwelling\n",
    "- **AGE**: Proportion of owner-occupied units built prior to 1940\n",
    "- **DIS**: Weighted distances to five Boston employment centres\n",
    "- **RAD**: Index of accessibility to radial highways\n",
    "- **TAX**: Full-value property-tax rate per $10,000\n",
    "- **PTRATIO**: Pupil-teacher ratio by town\n",
    "- **B**: 1000(Bk - 0.63)^2 where Bk is the proportion of Black residents by town\n",
    "- **LSTAT**: % lower status of the population\n",
    "- **MEDV**: Median value of owner-occupied homes in \\$1000's\n",
    "---\n",
    "\n",
    "## 🤖 Objective\n",
    "\n",
    "We will use a **Multilayer Perceptron (MLP)** to build a regressor capable of predicting the house pricing based on their measured features.\n"
   ]
  },
  {
   "cell_type": "code",
   "execution_count": 7,
   "metadata": {
    "executionInfo": {
     "elapsed": 1169,
     "status": "ok",
     "timestamp": 1625180389569,
     "user": {
      "displayName": "Michel Gonzaga",
      "photoUrl": "https://lh3.googleusercontent.com/a-/AOh14GjbmH4NxgO28Jq4KWHoXW8J01KcWIgw4A_D_7qdEro=s64",
      "userId": "10490419405013025838"
     },
     "user_tz": -120
    },
    "id": "iPD8t_2zOyRK"
   },
   "outputs": [],
   "source": [
    "import numpy as np\n",
    "import matplotlib.pyplot as plt\n",
    "import tensorflow as tf\n",
    "import sklearn as skl\n",
    "from sklearn.model_selection import train_test_split\n",
    "from sklearn.metrics import r2_score"
   ]
  },
  {
   "cell_type": "code",
   "execution_count": 2,
   "metadata": {
    "executionInfo": {
     "elapsed": 267,
     "status": "ok",
     "timestamp": 1625185053705,
     "user": {
      "displayName": "Michel Gonzaga",
      "photoUrl": "https://lh3.googleusercontent.com/a-/AOh14GjbmH4NxgO28Jq4KWHoXW8J01KcWIgw4A_D_7qdEro=s64",
      "userId": "10490419405013025838"
     },
     "user_tz": -120
    },
    "id": "HgnciW5mPRfX"
   },
   "outputs": [
    {
     "name": "stdout",
     "output_type": "stream",
     "text": [
      "Downloading data from https://storage.googleapis.com/tensorflow/tf-keras-datasets/boston_housing.npz\n",
      "\u001b[1m57026/57026\u001b[0m \u001b[32m━━━━━━━━━━━━━━━━━━━━\u001b[0m\u001b[37m\u001b[0m \u001b[1m0s\u001b[0m 3us/step\n"
     ]
    }
   ],
   "source": [
    "(X_train,y_train), (X_test,y_test) = tf.keras.datasets.boston_housing.load_data(\n",
    "    path=\"boston_housing.npz\", test_split=0.2, seed=113\n",
    ")\n",
    "\n",
    "X_tr, X_val, y_tr, y_val = train_test_split(X_train,y_train,test_size = 0.25,train_size =0.75)"
   ]
  },
  {
   "cell_type": "markdown",
   "metadata": {
    "id": "rtEACrj7U7YP"
   },
   "source": [
    "# Scaling the data\n",
    "\n",
    "This step is a thumb rule when we work with MLP Net"
   ]
  },
  {
   "cell_type": "code",
   "execution_count": 3,
   "metadata": {
    "executionInfo": {
     "elapsed": 281,
     "status": "ok",
     "timestamp": 1625185194179,
     "user": {
      "displayName": "Michel Gonzaga",
      "photoUrl": "https://lh3.googleusercontent.com/a-/AOh14GjbmH4NxgO28Jq4KWHoXW8J01KcWIgw4A_D_7qdEro=s64",
      "userId": "10490419405013025838"
     },
     "user_tz": -120
    },
    "id": "Ib7xQL57QA9P"
   },
   "outputs": [],
   "source": [
    "from sklearn.preprocessing import StandardScaler\n",
    "scaler_train = StandardScaler()\n",
    "scaler_y_train = StandardScaler()\n",
    "scaler_val = StandardScaler()\n",
    "scaler_test = StandardScaler()\n",
    "\n",
    "scaler_train.fit(X_train)\n",
    "X_train_new = scaler_train.transform(X_tr)\n",
    "\n",
    "scaler_val.fit(X_val)\n",
    "X_val_new = scaler_val.transform(X_val)\n",
    "\n",
    "scaler_test.fit(X_test)\n",
    "X_test_new = scaler_train.transform(X_test)"
   ]
  },
  {
   "cell_type": "markdown",
   "metadata": {
    "id": "kH7D3BvTVdgw"
   },
   "source": [
    "# Building the MLP Net"
   ]
  },
  {
   "cell_type": "code",
   "execution_count": 4,
   "metadata": {
    "executionInfo": {
     "elapsed": 271,
     "status": "ok",
     "timestamp": 1625188486346,
     "user": {
      "displayName": "Michel Gonzaga",
      "photoUrl": "https://lh3.googleusercontent.com/a-/AOh14GjbmH4NxgO28Jq4KWHoXW8J01KcWIgw4A_D_7qdEro=s64",
      "userId": "10490419405013025838"
     },
     "user_tz": -120
    },
    "id": "iO0ceoiZVZEE"
   },
   "outputs": [
    {
     "name": "stderr",
     "output_type": "stream",
     "text": [
      "/Users/michelgonzagadossantos/Documents/Repositories/Data-Science/Iquality Workshop/.venv/lib/python3.9/site-packages/keras/src/layers/core/dense.py:93: UserWarning: Do not pass an `input_shape`/`input_dim` argument to a layer. When using Sequential models, prefer using an `Input(shape)` object as the first layer in the model instead.\n",
      "  super().__init__(activity_regularizer=activity_regularizer, **kwargs)\n"
     ]
    }
   ],
   "source": [
    "model = tf.keras.Sequential()\n",
    "\n",
    "# First layer\n",
    "model.add(\n",
    "    tf.keras.layers.Dense(input_dim = len(X_tr[0]),units = 100,activation='relu')\n",
    ")\n",
    "\n",
    "# Second layer\n",
    "model.add(\n",
    "    tf.keras.layers.Dense(200,activation='relu')\n",
    ")\n",
    "\n",
    "# Second layer\n",
    "model.add(\n",
    "    tf.keras.layers.Dense(200,activation='relu')\n",
    ")\n",
    "\n",
    "# Output layer\n",
    "model.add(\n",
    "    tf.keras.layers.Dense(1,activation='relu')\n",
    ")"
   ]
  },
  {
   "cell_type": "code",
   "execution_count": 6,
   "metadata": {
    "executionInfo": {
     "elapsed": 9,
     "status": "ok",
     "timestamp": 1625188487441,
     "user": {
      "displayName": "Michel Gonzaga",
      "photoUrl": "https://lh3.googleusercontent.com/a-/AOh14GjbmH4NxgO28Jq4KWHoXW8J01KcWIgw4A_D_7qdEro=s64",
      "userId": "10490419405013025838"
     },
     "user_tz": -120
    },
    "id": "eZvR4gvsXlKS"
   },
   "outputs": [
    {
     "data": {
      "text/html": [
       "<pre style=\"white-space:pre;overflow-x:auto;line-height:normal;font-family:Menlo,'DejaVu Sans Mono',consolas,'Courier New',monospace\"><span style=\"font-weight: bold\">Model: \"sequential\"</span>\n",
       "</pre>\n"
      ],
      "text/plain": [
       "\u001b[1mModel: \"sequential\"\u001b[0m\n"
      ]
     },
     "metadata": {},
     "output_type": "display_data"
    },
    {
     "data": {
      "text/html": [
       "<pre style=\"white-space:pre;overflow-x:auto;line-height:normal;font-family:Menlo,'DejaVu Sans Mono',consolas,'Courier New',monospace\">┏━━━━━━━━━━━━━━━━━━━━━━━━━━━━━━━━━┳━━━━━━━━━━━━━━━━━━━━━━━━┳━━━━━━━━━━━━━━━┓\n",
       "┃<span style=\"font-weight: bold\"> Layer (type)                    </span>┃<span style=\"font-weight: bold\"> Output Shape           </span>┃<span style=\"font-weight: bold\">       Param # </span>┃\n",
       "┡━━━━━━━━━━━━━━━━━━━━━━━━━━━━━━━━━╇━━━━━━━━━━━━━━━━━━━━━━━━╇━━━━━━━━━━━━━━━┩\n",
       "│ dense (<span style=\"color: #0087ff; text-decoration-color: #0087ff\">Dense</span>)                   │ (<span style=\"color: #00d7ff; text-decoration-color: #00d7ff\">None</span>, <span style=\"color: #00af00; text-decoration-color: #00af00\">100</span>)            │         <span style=\"color: #00af00; text-decoration-color: #00af00\">1,400</span> │\n",
       "├─────────────────────────────────┼────────────────────────┼───────────────┤\n",
       "│ dense_1 (<span style=\"color: #0087ff; text-decoration-color: #0087ff\">Dense</span>)                 │ (<span style=\"color: #00d7ff; text-decoration-color: #00d7ff\">None</span>, <span style=\"color: #00af00; text-decoration-color: #00af00\">200</span>)            │        <span style=\"color: #00af00; text-decoration-color: #00af00\">20,200</span> │\n",
       "├─────────────────────────────────┼────────────────────────┼───────────────┤\n",
       "│ dense_2 (<span style=\"color: #0087ff; text-decoration-color: #0087ff\">Dense</span>)                 │ (<span style=\"color: #00d7ff; text-decoration-color: #00d7ff\">None</span>, <span style=\"color: #00af00; text-decoration-color: #00af00\">200</span>)            │        <span style=\"color: #00af00; text-decoration-color: #00af00\">40,200</span> │\n",
       "├─────────────────────────────────┼────────────────────────┼───────────────┤\n",
       "│ dense_3 (<span style=\"color: #0087ff; text-decoration-color: #0087ff\">Dense</span>)                 │ (<span style=\"color: #00d7ff; text-decoration-color: #00d7ff\">None</span>, <span style=\"color: #00af00; text-decoration-color: #00af00\">1</span>)              │           <span style=\"color: #00af00; text-decoration-color: #00af00\">201</span> │\n",
       "└─────────────────────────────────┴────────────────────────┴───────────────┘\n",
       "</pre>\n"
      ],
      "text/plain": [
       "┏━━━━━━━━━━━━━━━━━━━━━━━━━━━━━━━━━┳━━━━━━━━━━━━━━━━━━━━━━━━┳━━━━━━━━━━━━━━━┓\n",
       "┃\u001b[1m \u001b[0m\u001b[1mLayer (type)                   \u001b[0m\u001b[1m \u001b[0m┃\u001b[1m \u001b[0m\u001b[1mOutput Shape          \u001b[0m\u001b[1m \u001b[0m┃\u001b[1m \u001b[0m\u001b[1m      Param #\u001b[0m\u001b[1m \u001b[0m┃\n",
       "┡━━━━━━━━━━━━━━━━━━━━━━━━━━━━━━━━━╇━━━━━━━━━━━━━━━━━━━━━━━━╇━━━━━━━━━━━━━━━┩\n",
       "│ dense (\u001b[38;5;33mDense\u001b[0m)                   │ (\u001b[38;5;45mNone\u001b[0m, \u001b[38;5;34m100\u001b[0m)            │         \u001b[38;5;34m1,400\u001b[0m │\n",
       "├─────────────────────────────────┼────────────────────────┼───────────────┤\n",
       "│ dense_1 (\u001b[38;5;33mDense\u001b[0m)                 │ (\u001b[38;5;45mNone\u001b[0m, \u001b[38;5;34m200\u001b[0m)            │        \u001b[38;5;34m20,200\u001b[0m │\n",
       "├─────────────────────────────────┼────────────────────────┼───────────────┤\n",
       "│ dense_2 (\u001b[38;5;33mDense\u001b[0m)                 │ (\u001b[38;5;45mNone\u001b[0m, \u001b[38;5;34m200\u001b[0m)            │        \u001b[38;5;34m40,200\u001b[0m │\n",
       "├─────────────────────────────────┼────────────────────────┼───────────────┤\n",
       "│ dense_3 (\u001b[38;5;33mDense\u001b[0m)                 │ (\u001b[38;5;45mNone\u001b[0m, \u001b[38;5;34m1\u001b[0m)              │           \u001b[38;5;34m201\u001b[0m │\n",
       "└─────────────────────────────────┴────────────────────────┴───────────────┘\n"
      ]
     },
     "metadata": {},
     "output_type": "display_data"
    },
    {
     "data": {
      "text/html": [
       "<pre style=\"white-space:pre;overflow-x:auto;line-height:normal;font-family:Menlo,'DejaVu Sans Mono',consolas,'Courier New',monospace\"><span style=\"font-weight: bold\"> Total params: </span><span style=\"color: #00af00; text-decoration-color: #00af00\">62,001</span> (242.19 KB)\n",
       "</pre>\n"
      ],
      "text/plain": [
       "\u001b[1m Total params: \u001b[0m\u001b[38;5;34m62,001\u001b[0m (242.19 KB)\n"
      ]
     },
     "metadata": {},
     "output_type": "display_data"
    },
    {
     "data": {
      "text/html": [
       "<pre style=\"white-space:pre;overflow-x:auto;line-height:normal;font-family:Menlo,'DejaVu Sans Mono',consolas,'Courier New',monospace\"><span style=\"font-weight: bold\"> Trainable params: </span><span style=\"color: #00af00; text-decoration-color: #00af00\">62,001</span> (242.19 KB)\n",
       "</pre>\n"
      ],
      "text/plain": [
       "\u001b[1m Trainable params: \u001b[0m\u001b[38;5;34m62,001\u001b[0m (242.19 KB)\n"
      ]
     },
     "metadata": {},
     "output_type": "display_data"
    },
    {
     "data": {
      "text/html": [
       "<pre style=\"white-space:pre;overflow-x:auto;line-height:normal;font-family:Menlo,'DejaVu Sans Mono',consolas,'Courier New',monospace\"><span style=\"font-weight: bold\"> Non-trainable params: </span><span style=\"color: #00af00; text-decoration-color: #00af00\">0</span> (0.00 B)\n",
       "</pre>\n"
      ],
      "text/plain": [
       "\u001b[1m Non-trainable params: \u001b[0m\u001b[38;5;34m0\u001b[0m (0.00 B)\n"
      ]
     },
     "metadata": {},
     "output_type": "display_data"
    },
    {
     "name": "stdout",
     "output_type": "stream",
     "text": [
      "Epoch 1/50\n",
      "\u001b[1m10/10\u001b[0m \u001b[32m━━━━━━━━━━━━━━━━━━━━\u001b[0m\u001b[37m\u001b[0m \u001b[1m1s\u001b[0m 11ms/step - MeanSquaredError: 523.4691 - loss: 523.4691 - val_MeanSquaredError: 489.9256 - val_loss: 489.9256\n",
      "Epoch 2/50\n",
      "\u001b[1m10/10\u001b[0m \u001b[32m━━━━━━━━━━━━━━━━━━━━\u001b[0m\u001b[37m\u001b[0m \u001b[1m0s\u001b[0m 4ms/step - MeanSquaredError: 326.3866 - loss: 326.3866 - val_MeanSquaredError: 173.4674 - val_loss: 173.4674\n",
      "Epoch 3/50\n",
      "\u001b[1m10/10\u001b[0m \u001b[32m━━━━━━━━━━━━━━━━━━━━\u001b[0m\u001b[37m\u001b[0m \u001b[1m0s\u001b[0m 4ms/step - MeanSquaredError: 102.3477 - loss: 102.3477 - val_MeanSquaredError: 89.2785 - val_loss: 89.2785\n",
      "Epoch 4/50\n",
      "\u001b[1m10/10\u001b[0m \u001b[32m━━━━━━━━━━━━━━━━━━━━\u001b[0m\u001b[37m\u001b[0m \u001b[1m0s\u001b[0m 4ms/step - MeanSquaredError: 83.6073 - loss: 83.6073 - val_MeanSquaredError: 56.6157 - val_loss: 56.6157\n",
      "Epoch 5/50\n",
      "\u001b[1m10/10\u001b[0m \u001b[32m━━━━━━━━━━━━━━━━━━━━\u001b[0m\u001b[37m\u001b[0m \u001b[1m0s\u001b[0m 4ms/step - MeanSquaredError: 34.5910 - loss: 34.5910 - val_MeanSquaredError: 48.7243 - val_loss: 48.7243\n",
      "Epoch 6/50\n",
      "\u001b[1m10/10\u001b[0m \u001b[32m━━━━━━━━━━━━━━━━━━━━\u001b[0m\u001b[37m\u001b[0m \u001b[1m0s\u001b[0m 4ms/step - MeanSquaredError: 24.3990 - loss: 24.3990 - val_MeanSquaredError: 37.2823 - val_loss: 37.2823\n",
      "Epoch 7/50\n",
      "\u001b[1m10/10\u001b[0m \u001b[32m━━━━━━━━━━━━━━━━━━━━\u001b[0m\u001b[37m\u001b[0m \u001b[1m0s\u001b[0m 4ms/step - MeanSquaredError: 20.9070 - loss: 20.9070 - val_MeanSquaredError: 37.7011 - val_loss: 37.7011\n",
      "Epoch 8/50\n",
      "\u001b[1m10/10\u001b[0m \u001b[32m━━━━━━━━━━━━━━━━━━━━\u001b[0m\u001b[37m\u001b[0m \u001b[1m0s\u001b[0m 4ms/step - MeanSquaredError: 21.4286 - loss: 21.4286 - val_MeanSquaredError: 32.8169 - val_loss: 32.8169\n",
      "Epoch 9/50\n",
      "\u001b[1m10/10\u001b[0m \u001b[32m━━━━━━━━━━━━━━━━━━━━\u001b[0m\u001b[37m\u001b[0m \u001b[1m0s\u001b[0m 4ms/step - MeanSquaredError: 15.1071 - loss: 15.1071 - val_MeanSquaredError: 30.5779 - val_loss: 30.5779\n",
      "Epoch 10/50\n",
      "\u001b[1m10/10\u001b[0m \u001b[32m━━━━━━━━━━━━━━━━━━━━\u001b[0m\u001b[37m\u001b[0m \u001b[1m0s\u001b[0m 4ms/step - MeanSquaredError: 17.0592 - loss: 17.0592 - val_MeanSquaredError: 29.0779 - val_loss: 29.0779\n",
      "Epoch 11/50\n",
      "\u001b[1m10/10\u001b[0m \u001b[32m━━━━━━━━━━━━━━━━━━━━\u001b[0m\u001b[37m\u001b[0m \u001b[1m0s\u001b[0m 4ms/step - MeanSquaredError: 14.9974 - loss: 14.9974 - val_MeanSquaredError: 28.1567 - val_loss: 28.1567\n",
      "Epoch 12/50\n",
      "\u001b[1m10/10\u001b[0m \u001b[32m━━━━━━━━━━━━━━━━━━━━\u001b[0m\u001b[37m\u001b[0m \u001b[1m0s\u001b[0m 4ms/step - MeanSquaredError: 14.3751 - loss: 14.3751 - val_MeanSquaredError: 26.0918 - val_loss: 26.0918\n",
      "Epoch 13/50\n",
      "\u001b[1m10/10\u001b[0m \u001b[32m━━━━━━━━━━━━━━━━━━━━\u001b[0m\u001b[37m\u001b[0m \u001b[1m0s\u001b[0m 4ms/step - MeanSquaredError: 13.7369 - loss: 13.7369 - val_MeanSquaredError: 25.1107 - val_loss: 25.1107\n",
      "Epoch 14/50\n",
      "\u001b[1m10/10\u001b[0m \u001b[32m━━━━━━━━━━━━━━━━━━━━\u001b[0m\u001b[37m\u001b[0m \u001b[1m0s\u001b[0m 4ms/step - MeanSquaredError: 14.0512 - loss: 14.0512 - val_MeanSquaredError: 24.9218 - val_loss: 24.9218\n",
      "Epoch 15/50\n",
      "\u001b[1m10/10\u001b[0m \u001b[32m━━━━━━━━━━━━━━━━━━━━\u001b[0m\u001b[37m\u001b[0m \u001b[1m0s\u001b[0m 4ms/step - MeanSquaredError: 11.5102 - loss: 11.5102 - val_MeanSquaredError: 22.7110 - val_loss: 22.7110\n",
      "Epoch 16/50\n",
      "\u001b[1m10/10\u001b[0m \u001b[32m━━━━━━━━━━━━━━━━━━━━\u001b[0m\u001b[37m\u001b[0m \u001b[1m0s\u001b[0m 4ms/step - MeanSquaredError: 9.7658 - loss: 9.7658 - val_MeanSquaredError: 22.8120 - val_loss: 22.8120\n",
      "Epoch 17/50\n",
      "\u001b[1m10/10\u001b[0m \u001b[32m━━━━━━━━━━━━━━━━━━━━\u001b[0m\u001b[37m\u001b[0m \u001b[1m0s\u001b[0m 4ms/step - MeanSquaredError: 8.9973 - loss: 8.9973 - val_MeanSquaredError: 22.0888 - val_loss: 22.0888\n",
      "Epoch 18/50\n",
      "\u001b[1m10/10\u001b[0m \u001b[32m━━━━━━━━━━━━━━━━━━━━\u001b[0m\u001b[37m\u001b[0m \u001b[1m0s\u001b[0m 4ms/step - MeanSquaredError: 9.2261 - loss: 9.2261 - val_MeanSquaredError: 22.4760 - val_loss: 22.4760\n",
      "Epoch 19/50\n",
      "\u001b[1m10/10\u001b[0m \u001b[32m━━━━━━━━━━━━━━━━━━━━\u001b[0m\u001b[37m\u001b[0m \u001b[1m0s\u001b[0m 4ms/step - MeanSquaredError: 8.8869 - loss: 8.8869 - val_MeanSquaredError: 20.8046 - val_loss: 20.8046\n",
      "Epoch 20/50\n",
      "\u001b[1m10/10\u001b[0m \u001b[32m━━━━━━━━━━━━━━━━━━━━\u001b[0m\u001b[37m\u001b[0m \u001b[1m0s\u001b[0m 4ms/step - MeanSquaredError: 7.9467 - loss: 7.9467 - val_MeanSquaredError: 21.8234 - val_loss: 21.8234\n",
      "Epoch 21/50\n",
      "\u001b[1m10/10\u001b[0m \u001b[32m━━━━━━━━━━━━━━━━━━━━\u001b[0m\u001b[37m\u001b[0m \u001b[1m0s\u001b[0m 4ms/step - MeanSquaredError: 8.2550 - loss: 8.2550 - val_MeanSquaredError: 21.1410 - val_loss: 21.1410\n",
      "Epoch 22/50\n",
      "\u001b[1m10/10\u001b[0m \u001b[32m━━━━━━━━━━━━━━━━━━━━\u001b[0m\u001b[37m\u001b[0m \u001b[1m0s\u001b[0m 4ms/step - MeanSquaredError: 8.2410 - loss: 8.2410 - val_MeanSquaredError: 22.2141 - val_loss: 22.2141\n",
      "Epoch 23/50\n",
      "\u001b[1m10/10\u001b[0m \u001b[32m━━━━━━━━━━━━━━━━━━━━\u001b[0m\u001b[37m\u001b[0m \u001b[1m0s\u001b[0m 5ms/step - MeanSquaredError: 7.4238 - loss: 7.4238 - val_MeanSquaredError: 19.5409 - val_loss: 19.5409\n",
      "Epoch 24/50\n",
      "\u001b[1m10/10\u001b[0m \u001b[32m━━━━━━━━━━━━━━━━━━━━\u001b[0m\u001b[37m\u001b[0m \u001b[1m0s\u001b[0m 4ms/step - MeanSquaredError: 7.5922 - loss: 7.5922 - val_MeanSquaredError: 22.1849 - val_loss: 22.1849\n",
      "Epoch 25/50\n",
      "\u001b[1m10/10\u001b[0m \u001b[32m━━━━━━━━━━━━━━━━━━━━\u001b[0m\u001b[37m\u001b[0m \u001b[1m0s\u001b[0m 4ms/step - MeanSquaredError: 8.7676 - loss: 8.7676 - val_MeanSquaredError: 19.4089 - val_loss: 19.4089\n",
      "Epoch 26/50\n",
      "\u001b[1m10/10\u001b[0m \u001b[32m━━━━━━━━━━━━━━━━━━━━\u001b[0m\u001b[37m\u001b[0m \u001b[1m0s\u001b[0m 4ms/step - MeanSquaredError: 7.2074 - loss: 7.2074 - val_MeanSquaredError: 20.9216 - val_loss: 20.9216\n",
      "Epoch 27/50\n",
      "\u001b[1m10/10\u001b[0m \u001b[32m━━━━━━━━━━━━━━━━━━━━\u001b[0m\u001b[37m\u001b[0m \u001b[1m0s\u001b[0m 4ms/step - MeanSquaredError: 7.3392 - loss: 7.3392 - val_MeanSquaredError: 19.9902 - val_loss: 19.9902\n",
      "Epoch 28/50\n",
      "\u001b[1m10/10\u001b[0m \u001b[32m━━━━━━━━━━━━━━━━━━━━\u001b[0m\u001b[37m\u001b[0m \u001b[1m0s\u001b[0m 4ms/step - MeanSquaredError: 6.1657 - loss: 6.1657 - val_MeanSquaredError: 19.3535 - val_loss: 19.3535\n",
      "Epoch 29/50\n",
      "\u001b[1m10/10\u001b[0m \u001b[32m━━━━━━━━━━━━━━━━━━━━\u001b[0m\u001b[37m\u001b[0m \u001b[1m0s\u001b[0m 4ms/step - MeanSquaredError: 6.6943 - loss: 6.6943 - val_MeanSquaredError: 20.3589 - val_loss: 20.3589\n",
      "Epoch 30/50\n",
      "\u001b[1m10/10\u001b[0m \u001b[32m━━━━━━━━━━━━━━━━━━━━\u001b[0m\u001b[37m\u001b[0m \u001b[1m0s\u001b[0m 5ms/step - MeanSquaredError: 6.3090 - loss: 6.3090 - val_MeanSquaredError: 18.1240 - val_loss: 18.1240\n",
      "Epoch 31/50\n",
      "\u001b[1m10/10\u001b[0m \u001b[32m━━━━━━━━━━━━━━━━━━━━\u001b[0m\u001b[37m\u001b[0m \u001b[1m0s\u001b[0m 4ms/step - MeanSquaredError: 6.8541 - loss: 6.8541 - val_MeanSquaredError: 19.2882 - val_loss: 19.2882\n",
      "Epoch 32/50\n",
      "\u001b[1m10/10\u001b[0m \u001b[32m━━━━━━━━━━━━━━━━━━━━\u001b[0m\u001b[37m\u001b[0m \u001b[1m0s\u001b[0m 4ms/step - MeanSquaredError: 6.3826 - loss: 6.3826 - val_MeanSquaredError: 20.5468 - val_loss: 20.5468\n",
      "Epoch 33/50\n",
      "\u001b[1m10/10\u001b[0m \u001b[32m━━━━━━━━━━━━━━━━━━━━\u001b[0m\u001b[37m\u001b[0m \u001b[1m0s\u001b[0m 4ms/step - MeanSquaredError: 5.9013 - loss: 5.9013 - val_MeanSquaredError: 18.3856 - val_loss: 18.3856\n",
      "Epoch 34/50\n",
      "\u001b[1m10/10\u001b[0m \u001b[32m━━━━━━━━━━━━━━━━━━━━\u001b[0m\u001b[37m\u001b[0m \u001b[1m0s\u001b[0m 4ms/step - MeanSquaredError: 5.8914 - loss: 5.8914 - val_MeanSquaredError: 17.5865 - val_loss: 17.5865\n",
      "Epoch 35/50\n",
      "\u001b[1m10/10\u001b[0m \u001b[32m━━━━━━━━━━━━━━━━━━━━\u001b[0m\u001b[37m\u001b[0m \u001b[1m0s\u001b[0m 4ms/step - MeanSquaredError: 6.0411 - loss: 6.0411 - val_MeanSquaredError: 19.8198 - val_loss: 19.8198\n",
      "Epoch 36/50\n",
      "\u001b[1m10/10\u001b[0m \u001b[32m━━━━━━━━━━━━━━━━━━━━\u001b[0m\u001b[37m\u001b[0m \u001b[1m0s\u001b[0m 4ms/step - MeanSquaredError: 4.6430 - loss: 4.6430 - val_MeanSquaredError: 17.1005 - val_loss: 17.1005\n",
      "Epoch 37/50\n",
      "\u001b[1m10/10\u001b[0m \u001b[32m━━━━━━━━━━━━━━━━━━━━\u001b[0m\u001b[37m\u001b[0m \u001b[1m0s\u001b[0m 5ms/step - MeanSquaredError: 5.6777 - loss: 5.6777 - val_MeanSquaredError: 18.3811 - val_loss: 18.3811\n",
      "Epoch 38/50\n",
      "\u001b[1m10/10\u001b[0m \u001b[32m━━━━━━━━━━━━━━━━━━━━\u001b[0m\u001b[37m\u001b[0m \u001b[1m0s\u001b[0m 4ms/step - MeanSquaredError: 5.5823 - loss: 5.5823 - val_MeanSquaredError: 16.6220 - val_loss: 16.6220\n",
      "Epoch 39/50\n",
      "\u001b[1m10/10\u001b[0m \u001b[32m━━━━━━━━━━━━━━━━━━━━\u001b[0m\u001b[37m\u001b[0m \u001b[1m0s\u001b[0m 5ms/step - MeanSquaredError: 4.7536 - loss: 4.7536 - val_MeanSquaredError: 19.5894 - val_loss: 19.5894\n",
      "Epoch 40/50\n",
      "\u001b[1m10/10\u001b[0m \u001b[32m━━━━━━━━━━━━━━━━━━━━\u001b[0m\u001b[37m\u001b[0m \u001b[1m0s\u001b[0m 4ms/step - MeanSquaredError: 4.9442 - loss: 4.9442 - val_MeanSquaredError: 16.9612 - val_loss: 16.9612\n",
      "Epoch 41/50\n",
      "\u001b[1m10/10\u001b[0m \u001b[32m━━━━━━━━━━━━━━━━━━━━\u001b[0m\u001b[37m\u001b[0m \u001b[1m0s\u001b[0m 4ms/step - MeanSquaredError: 4.9267 - loss: 4.9267 - val_MeanSquaredError: 19.3580 - val_loss: 19.3580\n",
      "Epoch 42/50\n",
      "\u001b[1m10/10\u001b[0m \u001b[32m━━━━━━━━━━━━━━━━━━━━\u001b[0m\u001b[37m\u001b[0m \u001b[1m0s\u001b[0m 4ms/step - MeanSquaredError: 5.0981 - loss: 5.0981 - val_MeanSquaredError: 16.8976 - val_loss: 16.8976\n",
      "Epoch 43/50\n",
      "\u001b[1m10/10\u001b[0m \u001b[32m━━━━━━━━━━━━━━━━━━━━\u001b[0m\u001b[37m\u001b[0m \u001b[1m0s\u001b[0m 3ms/step - MeanSquaredError: 3.6431 - loss: 3.6431 - val_MeanSquaredError: 20.5208 - val_loss: 20.5208\n",
      "Epoch 44/50\n",
      "\u001b[1m10/10\u001b[0m \u001b[32m━━━━━━━━━━━━━━━━━━━━\u001b[0m\u001b[37m\u001b[0m \u001b[1m0s\u001b[0m 3ms/step - MeanSquaredError: 4.3922 - loss: 4.3922 - val_MeanSquaredError: 17.5401 - val_loss: 17.5401\n",
      "Epoch 45/50\n",
      "\u001b[1m10/10\u001b[0m \u001b[32m━━━━━━━━━━━━━━━━━━━━\u001b[0m\u001b[37m\u001b[0m \u001b[1m0s\u001b[0m 4ms/step - MeanSquaredError: 4.0413 - loss: 4.0413 - val_MeanSquaredError: 18.2795 - val_loss: 18.2795\n",
      "Epoch 46/50\n",
      "\u001b[1m10/10\u001b[0m \u001b[32m━━━━━━━━━━━━━━━━━━━━\u001b[0m\u001b[37m\u001b[0m \u001b[1m0s\u001b[0m 4ms/step - MeanSquaredError: 3.9559 - loss: 3.9559 - val_MeanSquaredError: 15.8726 - val_loss: 15.8726\n",
      "Epoch 47/50\n",
      "\u001b[1m10/10\u001b[0m \u001b[32m━━━━━━━━━━━━━━━━━━━━\u001b[0m\u001b[37m\u001b[0m \u001b[1m0s\u001b[0m 4ms/step - MeanSquaredError: 4.5429 - loss: 4.5429 - val_MeanSquaredError: 18.0336 - val_loss: 18.0336\n",
      "Epoch 48/50\n",
      "\u001b[1m10/10\u001b[0m \u001b[32m━━━━━━━━━━━━━━━━━━━━\u001b[0m\u001b[37m\u001b[0m \u001b[1m0s\u001b[0m 4ms/step - MeanSquaredError: 3.7480 - loss: 3.7480 - val_MeanSquaredError: 18.3801 - val_loss: 18.3801\n",
      "Epoch 49/50\n",
      "\u001b[1m10/10\u001b[0m \u001b[32m━━━━━━━━━━━━━━━━━━━━\u001b[0m\u001b[37m\u001b[0m \u001b[1m0s\u001b[0m 4ms/step - MeanSquaredError: 4.2233 - loss: 4.2233 - val_MeanSquaredError: 16.9591 - val_loss: 16.9591\n",
      "Epoch 50/50\n",
      "\u001b[1m10/10\u001b[0m \u001b[32m━━━━━━━━━━━━━━━━━━━━\u001b[0m\u001b[37m\u001b[0m \u001b[1m0s\u001b[0m 5ms/step - MeanSquaredError: 4.0642 - loss: 4.0642 - val_MeanSquaredError: 16.4348 - val_loss: 16.4348\n"
     ]
    }
   ],
   "source": [
    "model.compile(\n",
    "    loss='mean_squared_error',\n",
    "    optimizer='adam',\n",
    "    metrics=[\n",
    "        'MeanSquaredError'\n",
    "    ]\n",
    ")\n",
    "model.summary()\n",
    "history = model.fit(X_train_new, y_tr, batch_size=32, epochs=50,validation_data=(X_val_new,y_val))"
   ]
  },
  {
   "cell_type": "code",
   "execution_count": 9,
   "metadata": {
    "executionInfo": {
     "elapsed": 249,
     "status": "ok",
     "timestamp": 1625188497357,
     "user": {
      "displayName": "Michel Gonzaga",
      "photoUrl": "https://lh3.googleusercontent.com/a-/AOh14GjbmH4NxgO28Jq4KWHoXW8J01KcWIgw4A_D_7qdEro=s64",
      "userId": "10490419405013025838"
     },
     "user_tz": -120
    },
    "id": "w6VAwrSPZKmD"
   },
   "outputs": [
    {
     "name": "stdout",
     "output_type": "stream",
     "text": [
      "\u001b[1m4/4\u001b[0m \u001b[32m━━━━━━━━━━━━━━━━━━━━\u001b[0m\u001b[37m\u001b[0m \u001b[1m0s\u001b[0m 4ms/step \n"
     ]
    },
    {
     "data": {
      "text/plain": [
       "0.7618443478927162"
      ]
     },
     "execution_count": 9,
     "metadata": {},
     "output_type": "execute_result"
    }
   ],
   "source": [
    "y_pred = model.predict(X_test_new)\n",
    "y_pred = y_pred.reshape(1,-1)\n",
    "y_pred = y_pred[0]\n",
    "\n",
    "# R2 Score (We expect the R2 score to be as close to 1 as possible)\n",
    "r2_score(y_test,y_pred)"
   ]
  }
 ],
 "metadata": {
  "colab": {
   "authorship_tag": "ABX9TyPxzUohsgSwRgjjeHJEDEC6",
   "name": "MLP_Regression.ipynb",
   "provenance": []
  },
  "kernelspec": {
   "display_name": "3.9",
   "language": "python",
   "name": "python3"
  },
  "language_info": {
   "codemirror_mode": {
    "name": "ipython",
    "version": 3
   },
   "file_extension": ".py",
   "mimetype": "text/x-python",
   "name": "python",
   "nbconvert_exporter": "python",
   "pygments_lexer": "ipython3",
   "version": "3.9.6"
  }
 },
 "nbformat": 4,
 "nbformat_minor": 0
}
