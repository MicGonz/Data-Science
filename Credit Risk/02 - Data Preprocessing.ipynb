{
 "cells": [
  {
   "cell_type": "markdown",
   "id": "5fa0bac5",
   "metadata": {},
   "source": [
    "# 02 - Data Preprocessing"
   ]
  },
  {
   "cell_type": "code",
   "execution_count": 1,
   "id": "305c3d9d",
   "metadata": {},
   "outputs": [],
   "source": [
    "import pandas as pd\n",
    "import numpy as np\n",
    "import matplotlib\n",
    "from matplotlib import pyplot as plt\n",
    "import seaborn as sns\n",
    "import logging\n",
    "from sklearn.model_selection import train_test_split\n",
    "from sklearn.preprocessing import StandardScaler, MinMaxScaler\n",
    "logging.getLogger().setLevel(logging.CRITICAL)"
   ]
  },
  {
   "cell_type": "code",
   "execution_count": 2,
   "id": "2033e1ac",
   "metadata": {},
   "outputs": [
    {
     "name": "stdout",
     "output_type": "stream",
     "text": [
      "pandas: 2.3.1\n",
      "numpy: 2.2.6\n",
      "matplotlib: 3.10.3\n",
      "seaborn: 0.13.2\n",
      "logging: 0.5.1.2\n"
     ]
    }
   ],
   "source": [
    "# Packages version\n",
    "print(f'pandas: {pd.__version__}')\n",
    "print(f'numpy: {np.__version__}')\n",
    "print(f'matplotlib: {matplotlib.__version__}')\n",
    "print(f'seaborn: {sns.__version__}')\n",
    "print(f'logging: {logging.__version__}')"
   ]
  },
  {
   "cell_type": "code",
   "execution_count": 3,
   "id": "eab94cd6",
   "metadata": {},
   "outputs": [
    {
     "data": {
      "application/vnd.microsoft.datawrangler.viewer.v0+json": {
       "columns": [
        {
         "name": "index",
         "rawType": "int64",
         "type": "integer"
        },
        {
         "name": "YOB",
         "rawType": "float64",
         "type": "float"
        },
        {
         "name": "NKID",
         "rawType": "float64",
         "type": "float"
        },
        {
         "name": "DEP",
         "rawType": "float64",
         "type": "float"
        },
        {
         "name": "PHON",
         "rawType": "int64",
         "type": "integer"
        },
        {
         "name": "SINC",
         "rawType": "float64",
         "type": "float"
        },
        {
         "name": "AES",
         "rawType": "object",
         "type": "string"
        },
        {
         "name": "DAINC",
         "rawType": "float64",
         "type": "float"
        },
        {
         "name": "RES",
         "rawType": "object",
         "type": "string"
        },
        {
         "name": "DHVAL",
         "rawType": "float64",
         "type": "float"
        },
        {
         "name": "DMORT",
         "rawType": "float64",
         "type": "float"
        },
        {
         "name": "DOUTM",
         "rawType": "float64",
         "type": "float"
        },
        {
         "name": "DOUTL",
         "rawType": "float64",
         "type": "float"
        },
        {
         "name": "DOUTHP",
         "rawType": "float64",
         "type": "float"
        },
        {
         "name": "DOUTCC",
         "rawType": "float64",
         "type": "float"
        },
        {
         "name": "BAD",
         "rawType": "float64",
         "type": "float"
        }
       ],
       "ref": "045e2e64-f4be-4121-95c0-ff8f440a497d",
       "rows": [
        [
         "0",
         "19.0",
         "4.0",
         "0.0",
         "1",
         "0.0",
         "R",
         "0.0",
         "O",
         "14464.0",
         "4.0",
         "0.0",
         "0.0",
         "0.0",
         "0.0",
         "0.0"
        ],
        [
         "1",
         "41.0",
         "2.0",
         "0.0",
         "1",
         "0.0",
         "P",
         "36000.0",
         "O",
         "0.0",
         "0.0",
         "280.0",
         "664.0",
         "0.0",
         "80.0",
         "0.0"
        ],
        [
         "2",
         "66.0",
         "0.0",
         "0.0",
         "1",
         "0.0",
         "N",
         "30000.0",
         "N",
         "0.0",
         "0.0",
         "0.0",
         "0.0",
         "0.0",
         "0.0",
         "0.0"
        ],
        [
         "3",
         "51.0",
         "2.0",
         "0.0",
         "1",
         "0.0",
         "P",
         "464.0",
         "O",
         "24928.0",
         "8464.0",
         "584.0",
         "320.0",
         "0.0",
         "60.0",
         "0.0"
        ],
        [
         "4",
         "65.0",
         "0.0",
         "0.0",
         "1",
         "0.0",
         "P",
         "15000.0",
         "P",
         "0.0",
         "0.0",
         "0.0",
         "0.0",
         "0.0",
         "0.0",
         "0.0"
        ]
       ],
       "shape": {
        "columns": 15,
        "rows": 5
       }
      },
      "text/html": [
       "<div>\n",
       "<style scoped>\n",
       "    .dataframe tbody tr th:only-of-type {\n",
       "        vertical-align: middle;\n",
       "    }\n",
       "\n",
       "    .dataframe tbody tr th {\n",
       "        vertical-align: top;\n",
       "    }\n",
       "\n",
       "    .dataframe thead th {\n",
       "        text-align: right;\n",
       "    }\n",
       "</style>\n",
       "<table border=\"1\" class=\"dataframe\">\n",
       "  <thead>\n",
       "    <tr style=\"text-align: right;\">\n",
       "      <th></th>\n",
       "      <th>YOB</th>\n",
       "      <th>NKID</th>\n",
       "      <th>DEP</th>\n",
       "      <th>PHON</th>\n",
       "      <th>SINC</th>\n",
       "      <th>AES</th>\n",
       "      <th>DAINC</th>\n",
       "      <th>RES</th>\n",
       "      <th>DHVAL</th>\n",
       "      <th>DMORT</th>\n",
       "      <th>DOUTM</th>\n",
       "      <th>DOUTL</th>\n",
       "      <th>DOUTHP</th>\n",
       "      <th>DOUTCC</th>\n",
       "      <th>BAD</th>\n",
       "    </tr>\n",
       "  </thead>\n",
       "  <tbody>\n",
       "    <tr>\n",
       "      <th>0</th>\n",
       "      <td>19.0</td>\n",
       "      <td>4.0</td>\n",
       "      <td>0.0</td>\n",
       "      <td>1</td>\n",
       "      <td>0.0</td>\n",
       "      <td>R</td>\n",
       "      <td>0.0</td>\n",
       "      <td>O</td>\n",
       "      <td>14464.0</td>\n",
       "      <td>4.0</td>\n",
       "      <td>0.0</td>\n",
       "      <td>0.0</td>\n",
       "      <td>0.0</td>\n",
       "      <td>0.0</td>\n",
       "      <td>0.0</td>\n",
       "    </tr>\n",
       "    <tr>\n",
       "      <th>1</th>\n",
       "      <td>41.0</td>\n",
       "      <td>2.0</td>\n",
       "      <td>0.0</td>\n",
       "      <td>1</td>\n",
       "      <td>0.0</td>\n",
       "      <td>P</td>\n",
       "      <td>36000.0</td>\n",
       "      <td>O</td>\n",
       "      <td>0.0</td>\n",
       "      <td>0.0</td>\n",
       "      <td>280.0</td>\n",
       "      <td>664.0</td>\n",
       "      <td>0.0</td>\n",
       "      <td>80.0</td>\n",
       "      <td>0.0</td>\n",
       "    </tr>\n",
       "    <tr>\n",
       "      <th>2</th>\n",
       "      <td>66.0</td>\n",
       "      <td>0.0</td>\n",
       "      <td>0.0</td>\n",
       "      <td>1</td>\n",
       "      <td>0.0</td>\n",
       "      <td>N</td>\n",
       "      <td>30000.0</td>\n",
       "      <td>N</td>\n",
       "      <td>0.0</td>\n",
       "      <td>0.0</td>\n",
       "      <td>0.0</td>\n",
       "      <td>0.0</td>\n",
       "      <td>0.0</td>\n",
       "      <td>0.0</td>\n",
       "      <td>0.0</td>\n",
       "    </tr>\n",
       "    <tr>\n",
       "      <th>3</th>\n",
       "      <td>51.0</td>\n",
       "      <td>2.0</td>\n",
       "      <td>0.0</td>\n",
       "      <td>1</td>\n",
       "      <td>0.0</td>\n",
       "      <td>P</td>\n",
       "      <td>464.0</td>\n",
       "      <td>O</td>\n",
       "      <td>24928.0</td>\n",
       "      <td>8464.0</td>\n",
       "      <td>584.0</td>\n",
       "      <td>320.0</td>\n",
       "      <td>0.0</td>\n",
       "      <td>60.0</td>\n",
       "      <td>0.0</td>\n",
       "    </tr>\n",
       "    <tr>\n",
       "      <th>4</th>\n",
       "      <td>65.0</td>\n",
       "      <td>0.0</td>\n",
       "      <td>0.0</td>\n",
       "      <td>1</td>\n",
       "      <td>0.0</td>\n",
       "      <td>P</td>\n",
       "      <td>15000.0</td>\n",
       "      <td>P</td>\n",
       "      <td>0.0</td>\n",
       "      <td>0.0</td>\n",
       "      <td>0.0</td>\n",
       "      <td>0.0</td>\n",
       "      <td>0.0</td>\n",
       "      <td>0.0</td>\n",
       "      <td>0.0</td>\n",
       "    </tr>\n",
       "  </tbody>\n",
       "</table>\n",
       "</div>"
      ],
      "text/plain": [
       "    YOB  NKID  DEP  PHON  SINC AES    DAINC RES    DHVAL   DMORT  DOUTM  \\\n",
       "0  19.0   4.0  0.0     1   0.0   R      0.0   O  14464.0     4.0    0.0   \n",
       "1  41.0   2.0  0.0     1   0.0   P  36000.0   O      0.0     0.0  280.0   \n",
       "2  66.0   0.0  0.0     1   0.0   N  30000.0   N      0.0     0.0    0.0   \n",
       "3  51.0   2.0  0.0     1   0.0   P    464.0   O  24928.0  8464.0  584.0   \n",
       "4  65.0   0.0  0.0     1   0.0   P  15000.0   P      0.0     0.0    0.0   \n",
       "\n",
       "   DOUTL  DOUTHP  DOUTCC  BAD  \n",
       "0    0.0     0.0     0.0  0.0  \n",
       "1  664.0     0.0    80.0  0.0  \n",
       "2    0.0     0.0     0.0  0.0  \n",
       "3  320.0     0.0    60.0  0.0  \n",
       "4    0.0     0.0     0.0  0.0  "
      ]
     },
     "execution_count": 3,
     "metadata": {},
     "output_type": "execute_result"
    }
   ],
   "source": [
    "# Read CSV file\n",
    "df = pd.read_csv('./Data/Loan Data.csv', sep=';')\n",
    "df.head()"
   ]
  },
  {
   "cell_type": "markdown",
   "id": "1f1f203f",
   "metadata": {},
   "source": [
    "## **🛠️ Data Preparation**\n",
    "\n",
    "Our data preparation pipeline includes the following steps:\n",
    "\n",
    "- **Constant Feature Removal**: Eliminating variables with no variance.\n",
    "- **Correlation Filter**: Removing highly correlated features to reduce multicollinearity.\n",
    "- **Judgmental Filtering**: Excluding variables based on domain knowledge and expert judgment.\n",
    "- **Feature Engineering**: Creating and transforming variables to improve model performance.\n"
   ]
  },
  {
   "cell_type": "code",
   "execution_count": 4,
   "id": "42ced928",
   "metadata": {},
   "outputs": [],
   "source": [
    "# Data Split\n",
    "df_train, df_aux = train_test_split(df, train_size=0.85, stratify=df['BAD'],random_state=42)\n",
    "df_test, df_val = train_test_split(df_aux, test_size=0.5, stratify=df_aux['BAD'],random_state=42)\n",
    "\n",
    "# Separate target from features:\n",
    "X_train = df_train.drop(columns=['BAD'])\n",
    "y_train = df_train['BAD']"
   ]
  },
  {
   "cell_type": "code",
   "execution_count": 5,
   "id": "7323f80f",
   "metadata": {},
   "outputs": [
    {
     "name": "stdout",
     "output_type": "stream",
     "text": [
      "--------------------------------------------------------------------------------------------------------------------------------------------\n",
      "Constant Feature Removal\n",
      "--------------------------------------------------------------------------------------------------------------------------------------------\n",
      "Columns to Drop:['DEP', 'PHON', 'DOUTHP', 'DOUTCC']\n",
      "Columns to Keep:['AES', 'DAINC', 'DHVAL', 'DMORT', 'DOUTL', 'DOUTM', 'NKID', 'RES', 'SINC', 'YOB']\n",
      "--------------------------------------------------------------------------------------------------------------------------------------------\n"
     ]
    }
   ],
   "source": [
    "# Constant Feature Removal\n",
    "def Constant_Filter(df,threshold):\n",
    "    return [col for col in df.columns if df[col].value_counts(normalize=True).max() >= threshold]\n",
    "\n",
    "columns_to_drop = Constant_Filter(X_train,0.8)\n",
    "columns_to_keep = X_train.columns.difference(columns_to_drop).tolist()\n",
    "\n",
    "X_train_filtered_1 = X_train[columns_to_keep]\n",
    "\n",
    "print(140*'-')\n",
    "print('Constant Feature Removal')\n",
    "print(140*'-')\n",
    "print(f'Columns to Drop:{columns_to_drop}')\n",
    "print(f'Columns to Keep:{columns_to_keep}')\n",
    "print(140*'-')"
   ]
  },
  {
   "cell_type": "code",
   "execution_count": 6,
   "id": "1ac98e8b",
   "metadata": {},
   "outputs": [
    {
     "name": "stdout",
     "output_type": "stream",
     "text": [
      "--------------------------------------------------------------------------------------------------------------------------------------------\n",
      "Correlation Filter\n",
      "--------------------------------------------------------------------------------------------------------------------------------------------\n",
      "Columns to Drop:['DHVAL', 'DMORT', 'DOUTM']\n",
      "Columns to Keep:['YOB', 'NKID', 'DOUTL', 'DAINC', 'SINC', 'RES', 'AES']\n",
      "--------------------------------------------------------------------------------------------------------------------------------------------\n"
     ]
    },
    {
     "data": {
      "image/png": "[encoded data removed]",
      "text/plain": [
       "<Figure size 1000x800 with 2 Axes>"
      ]
     },
     "metadata": {},
     "output_type": "display_data"
    }
   ],
   "source": [
    "# Correlation Filter\n",
    "def Correlation_Filter(df, threshold=0.6): \n",
    "    \n",
    "    cols = set(df.columns)\n",
    "    cor_mat = df.corr()\n",
    "    \n",
    "    for col1 in list(cols):\n",
    "        for col2 in list(cols):\n",
    "            if col1 != col2 and abs(cor_mat.at[col1, col2]) >= threshold:\n",
    "                if col2 in cols:\n",
    "                    cols.remove(col2)\n",
    "                    \n",
    "    return list(cols)\n",
    "\n",
    "columns_to_keep = Correlation_Filter(X_train_filtered_1.drop(columns=['RES','AES']) , 0.4) + ['RES','AES']\n",
    "columns_to_drop = X_train_filtered_1.columns.difference(columns_to_keep).tolist()\n",
    "\n",
    "X_train_filtered_2 = X_train_filtered_1[columns_to_keep]\n",
    "\n",
    "print(140*'-')\n",
    "print('Correlation Filter')\n",
    "print(140*'-')\n",
    "print(f'Columns to Drop:{columns_to_drop}')\n",
    "print(f'Columns to Keep:{columns_to_keep}')\n",
    "print(140*'-')\n",
    "\n",
    "# Compute the correlation matrix\n",
    "corr_matrix = X_train_filtered_2.drop(columns=['RES','AES']).corr(method='spearman')\n",
    "\n",
    "# Plot the heatmap\n",
    "plt.figure(figsize=(10, 8))\n",
    "sns.heatmap(corr_matrix, annot=True, fmt=\".2f\", cmap='coolwarm', vmin=-1, vmax=1)\n",
    "plt.title('Spearman Correlation Heatmap of Numerical Variables', fontsize=16)\n",
    "plt.tight_layout()\n",
    "plt.show()"
   ]
  },
  {
   "cell_type": "code",
   "execution_count": 7,
   "id": "2557622a",
   "metadata": {},
   "outputs": [
    {
     "data": {
      "application/vnd.microsoft.datawrangler.viewer.v0+json": {
       "columns": [
        {
         "name": "index",
         "rawType": "object",
         "type": "string"
        },
        {
         "name": "YOB",
         "rawType": "float64",
         "type": "float"
        },
        {
         "name": "NKID",
         "rawType": "float64",
         "type": "float"
        },
        {
         "name": "DOUTL",
         "rawType": "float64",
         "type": "float"
        },
        {
         "name": "DAINC",
         "rawType": "float64",
         "type": "float"
        },
        {
         "name": "SINC",
         "rawType": "float64",
         "type": "float"
        }
       ],
       "ref": "18c5e200-fab8-4d02-a5d8-910fa754fb2c",
       "rows": [
        [
         "count",
         "1041.0",
         "1041.0",
         "1041.0",
         "1041.0",
         "1041.0"
        ],
        [
         "mean",
         "50.873198847262245",
         "0.6109510086455331",
         "124.31892411143131",
         "21063.79250720461",
         "1988.8635926993277"
        ],
        [
         "std",
         "15.416501593816688",
         "1.0112041367851428",
         "904.729899194949",
         "15733.984141793619",
         "4871.396098520716"
        ],
        [
         "min",
         "3.0",
         "0.0",
         "0.0",
         "0.0",
         "0.0"
        ],
        [
         "25%",
         "42.0",
         "0.0",
         "0.0",
         "9276.0",
         "0.0"
        ],
        [
         "50%",
         "55.0",
         "0.0",
         "0.0",
         "19425.0",
         "0.0"
        ],
        [
         "75%",
         "63.0",
         "1.0",
         "0.0",
         "30000.0",
         "1209.0"
        ],
        [
         "max",
         "99.0",
         "5.0",
         "28000.0",
         "64800.0",
         "50000.0"
        ]
       ],
       "shape": {
        "columns": 5,
        "rows": 8
       }
      },
      "text/html": [
       "<div>\n",
       "<style scoped>\n",
       "    .dataframe tbody tr th:only-of-type {\n",
       "        vertical-align: middle;\n",
       "    }\n",
       "\n",
       "    .dataframe tbody tr th {\n",
       "        vertical-align: top;\n",
       "    }\n",
       "\n",
       "    .dataframe thead th {\n",
       "        text-align: right;\n",
       "    }\n",
       "</style>\n",
       "<table border=\"1\" class=\"dataframe\">\n",
       "  <thead>\n",
       "    <tr style=\"text-align: right;\">\n",
       "      <th></th>\n",
       "      <th>YOB</th>\n",
       "      <th>NKID</th>\n",
       "      <th>DOUTL</th>\n",
       "      <th>DAINC</th>\n",
       "      <th>SINC</th>\n",
       "    </tr>\n",
       "  </thead>\n",
       "  <tbody>\n",
       "    <tr>\n",
       "      <th>count</th>\n",
       "      <td>1041.000000</td>\n",
       "      <td>1041.000000</td>\n",
       "      <td>1041.000000</td>\n",
       "      <td>1041.000000</td>\n",
       "      <td>1041.000000</td>\n",
       "    </tr>\n",
       "    <tr>\n",
       "      <th>mean</th>\n",
       "      <td>50.873199</td>\n",
       "      <td>0.610951</td>\n",
       "      <td>124.318924</td>\n",
       "      <td>21063.792507</td>\n",
       "      <td>1988.863593</td>\n",
       "    </tr>\n",
       "    <tr>\n",
       "      <th>std</th>\n",
       "      <td>15.416502</td>\n",
       "      <td>1.011204</td>\n",
       "      <td>904.729899</td>\n",
       "      <td>15733.984142</td>\n",
       "      <td>4871.396099</td>\n",
       "    </tr>\n",
       "    <tr>\n",
       "      <th>min</th>\n",
       "      <td>3.000000</td>\n",
       "      <td>0.000000</td>\n",
       "      <td>0.000000</td>\n",
       "      <td>0.000000</td>\n",
       "      <td>0.000000</td>\n",
       "    </tr>\n",
       "    <tr>\n",
       "      <th>25%</th>\n",
       "      <td>42.000000</td>\n",
       "      <td>0.000000</td>\n",
       "      <td>0.000000</td>\n",
       "      <td>9276.000000</td>\n",
       "      <td>0.000000</td>\n",
       "    </tr>\n",
       "    <tr>\n",
       "      <th>50%</th>\n",
       "      <td>55.000000</td>\n",
       "      <td>0.000000</td>\n",
       "      <td>0.000000</td>\n",
       "      <td>19425.000000</td>\n",
       "      <td>0.000000</td>\n",
       "    </tr>\n",
       "    <tr>\n",
       "      <th>75%</th>\n",
       "      <td>63.000000</td>\n",
       "      <td>1.000000</td>\n",
       "      <td>0.000000</td>\n",
       "      <td>30000.000000</td>\n",
       "      <td>1209.000000</td>\n",
       "    </tr>\n",
       "    <tr>\n",
       "      <th>max</th>\n",
       "      <td>99.000000</td>\n",
       "      <td>5.000000</td>\n",
       "      <td>28000.000000</td>\n",
       "      <td>64800.000000</td>\n",
       "      <td>50000.000000</td>\n",
       "    </tr>\n",
       "  </tbody>\n",
       "</table>\n",
       "</div>"
      ],
      "text/plain": [
       "               YOB         NKID         DOUTL         DAINC          SINC\n",
       "count  1041.000000  1041.000000   1041.000000   1041.000000   1041.000000\n",
       "mean     50.873199     0.610951    124.318924  21063.792507   1988.863593\n",
       "std      15.416502     1.011204    904.729899  15733.984142   4871.396099\n",
       "min       3.000000     0.000000      0.000000      0.000000      0.000000\n",
       "25%      42.000000     0.000000      0.000000   9276.000000      0.000000\n",
       "50%      55.000000     0.000000      0.000000  19425.000000      0.000000\n",
       "75%      63.000000     1.000000      0.000000  30000.000000   1209.000000\n",
       "max      99.000000     5.000000  28000.000000  64800.000000  50000.000000"
      ]
     },
     "execution_count": 7,
     "metadata": {},
     "output_type": "execute_result"
    }
   ],
   "source": [
    "X_train_filtered_2.describe()"
   ]
  },
  {
   "cell_type": "markdown",
   "id": "b356e628",
   "metadata": {},
   "source": [
    "OBs. In our Judgmental Filter we chose to discard the non-numeric columns of the remaining dataset."
   ]
  },
  {
   "cell_type": "code",
   "execution_count": 8,
   "id": "cd1ce369",
   "metadata": {},
   "outputs": [
    {
     "name": "stdout",
     "output_type": "stream",
     "text": [
      "<class 'pandas.core.frame.DataFrame'>\n",
      "Index: 1041 entries, 350 to 385\n",
      "Data columns (total 7 columns):\n",
      " #   Column  Non-Null Count  Dtype  \n",
      "---  ------  --------------  -----  \n",
      " 0   YOB     1041 non-null   float64\n",
      " 1   NKID    1041 non-null   float64\n",
      " 2   DOUTL   1041 non-null   float64\n",
      " 3   DAINC   1041 non-null   float64\n",
      " 4   SINC    1041 non-null   float64\n",
      " 5   RES     1041 non-null   object \n",
      " 6   AES     1041 non-null   object \n",
      "dtypes: float64(5), object(2)\n",
      "memory usage: 65.1+ KB\n"
     ]
    }
   ],
   "source": [
    "X_train_filtered_2.info()"
   ]
  },
  {
   "cell_type": "code",
   "execution_count": 9,
   "id": "5fbea319",
   "metadata": {},
   "outputs": [],
   "source": [
    "X_train_filtered_2 = X_train_filtered_2.reset_index(drop=True)\n",
    "y_train = y_train.reset_index(drop=True)\n",
    "\n",
    "df_train_final = X_train_filtered_2.copy()\n",
    "df_train_final['BAD'] = y_train\n",
    "\n",
    "\n",
    "df_test_final = df_test[df_train_final.columns]\n",
    "df_val_final = df_val[df_train_final.columns]"
   ]
  },
  {
   "cell_type": "code",
   "execution_count": 14,
   "id": "a6e1eb25",
   "metadata": {},
   "outputs": [],
   "source": [
    "# Feature Engineering\n",
    "#------------------------------------------------------------------\n",
    "# 'RES(binary)': Encodes whether the client owns a property.\n",
    "#                1 if RES == 'O' (owns property)\n",
    "#                0 otherwise\n",
    "#------------------------------------------------------------------\n",
    "# 'AES(binary)': Encodes whether the client has a formal employment.\n",
    "#                0 if AES in ('W','T','U','N','Z') (formal employment)\n",
    "#                1 otherwise\n",
    "#------------------------------------------------------------------\n",
    "# 'KIDS': Encodes whether the client has kids.\n",
    "#                0 if NKID == 0 (formal employment)\n",
    "#                1 otherwise\n",
    "#------------------------------------------------------------------\n",
    "# Garantir cópia\n",
    "df_test_final = df_test_final.copy()\n",
    "df_val_final = df_val_final.copy()\n",
    "\n",
    "# Valores não desejados para AES\n",
    "unwanted = ['W', 'T', 'U', 'N', 'Z']\n",
    "\n",
    "# TRAIN\n",
    "df_train_final['RES(binary)'] = (df_train_final['RES'] == 'O').astype(int)\n",
    "df_train_final['AES(binary)'] = (~df_train_final['AES'].isin(unwanted)).astype(int)\n",
    "df_train_final['KIDS'] = (df_train_final['NKID'] != 0).astype(int)\n",
    "\n",
    "# TEST\n",
    "df_test_final['RES(binary)'] = (df_test_final['RES'] == 'O').astype(int)\n",
    "df_test_final['AES(binary)'] = (~df_test_final['AES'].isin(unwanted)).astype(int)\n",
    "df_test_final['KIDS'] = (df_test_final['NKID'] != 0).astype(int)\n",
    "\n",
    "# VALID\n",
    "df_val_final['RES(binary)'] = (df_val_final['RES'] == 'O').astype(int)\n",
    "df_val_final['AES(binary)'] = (~df_val_final['AES'].isin(unwanted)).astype(int)\n",
    "df_val_final['KIDS'] = (df_val_final['NKID'] != 0).astype(int)\n"
   ]
  },
  {
   "cell_type": "code",
   "execution_count": 15,
   "id": "6e719b05",
   "metadata": {},
   "outputs": [
    {
     "data": {
      "application/vnd.microsoft.datawrangler.viewer.v0+json": {
       "columns": [
        {
         "name": "index",
         "rawType": "object",
         "type": "string"
        },
        {
         "name": "YOB",
         "rawType": "float64",
         "type": "float"
        },
        {
         "name": "NKID",
         "rawType": "float64",
         "type": "float"
        },
        {
         "name": "DOUTL",
         "rawType": "float64",
         "type": "float"
        },
        {
         "name": "DAINC",
         "rawType": "float64",
         "type": "float"
        },
        {
         "name": "SINC",
         "rawType": "float64",
         "type": "float"
        },
        {
         "name": "BAD",
         "rawType": "float64",
         "type": "float"
        },
        {
         "name": "RES(binary)",
         "rawType": "float64",
         "type": "float"
        },
        {
         "name": "AES(binary)",
         "rawType": "float64",
         "type": "float"
        },
        {
         "name": "KIDS",
         "rawType": "float64",
         "type": "float"
        }
       ],
       "ref": "5dbaf820-fdd2-4229-a094-adeecf9c3fe2",
       "rows": [
        [
         "count",
         "1041.0",
         "1041.0",
         "1041.0",
         "1041.0",
         "1041.0",
         "1041.0",
         "1041.0",
         "1041.0",
         "1041.0"
        ],
        [
         "mean",
         "50.873198847262245",
         "0.6109510086455331",
         "124.31892411143131",
         "21063.79250720461",
         "1988.8635926993277",
         "0.2632084534101825",
         "0.5062439961575408",
         "0.8559077809798271",
         "0.32468780019212296"
        ],
        [
         "std",
         "15.416501593816688",
         "1.0112041367851428",
         "904.729899194949",
         "15733.984141793619",
         "4871.396098520716",
         "0.4405862394469551",
         "0.500201319110016",
         "0.35135201385693127",
         "0.46848315331243234"
        ],
        [
         "min",
         "3.0",
         "0.0",
         "0.0",
         "0.0",
         "0.0",
         "0.0",
         "0.0",
         "0.0",
         "0.0"
        ],
        [
         "25%",
         "42.0",
         "0.0",
         "0.0",
         "9276.0",
         "0.0",
         "0.0",
         "0.0",
         "1.0",
         "0.0"
        ],
        [
         "50%",
         "55.0",
         "0.0",
         "0.0",
         "19425.0",
         "0.0",
         "0.0",
         "1.0",
         "1.0",
         "0.0"
        ],
        [
         "75%",
         "63.0",
         "1.0",
         "0.0",
         "30000.0",
         "1209.0",
         "1.0",
         "1.0",
         "1.0",
         "1.0"
        ],
        [
         "max",
         "99.0",
         "5.0",
         "28000.0",
         "64800.0",
         "50000.0",
         "1.0",
         "1.0",
         "1.0",
         "1.0"
        ]
       ],
       "shape": {
        "columns": 9,
        "rows": 8
       }
      },
      "text/html": [
       "<div>\n",
       "<style scoped>\n",
       "    .dataframe tbody tr th:only-of-type {\n",
       "        vertical-align: middle;\n",
       "    }\n",
       "\n",
       "    .dataframe tbody tr th {\n",
       "        vertical-align: top;\n",
       "    }\n",
       "\n",
       "    .dataframe thead th {\n",
       "        text-align: right;\n",
       "    }\n",
       "</style>\n",
       "<table border=\"1\" class=\"dataframe\">\n",
       "  <thead>\n",
       "    <tr style=\"text-align: right;\">\n",
       "      <th></th>\n",
       "      <th>YOB</th>\n",
       "      <th>NKID</th>\n",
       "      <th>DOUTL</th>\n",
       "      <th>DAINC</th>\n",
       "      <th>SINC</th>\n",
       "      <th>BAD</th>\n",
       "      <th>RES(binary)</th>\n",
       "      <th>AES(binary)</th>\n",
       "      <th>KIDS</th>\n",
       "    </tr>\n",
       "  </thead>\n",
       "  <tbody>\n",
       "    <tr>\n",
       "      <th>count</th>\n",
       "      <td>1041.000000</td>\n",
       "      <td>1041.000000</td>\n",
       "      <td>1041.000000</td>\n",
       "      <td>1041.000000</td>\n",
       "      <td>1041.000000</td>\n",
       "      <td>1041.000000</td>\n",
       "      <td>1041.000000</td>\n",
       "      <td>1041.000000</td>\n",
       "      <td>1041.000000</td>\n",
       "    </tr>\n",
       "    <tr>\n",
       "      <th>mean</th>\n",
       "      <td>50.873199</td>\n",
       "      <td>0.610951</td>\n",
       "      <td>124.318924</td>\n",
       "      <td>21063.792507</td>\n",
       "      <td>1988.863593</td>\n",
       "      <td>0.263208</td>\n",
       "      <td>0.506244</td>\n",
       "      <td>0.855908</td>\n",
       "      <td>0.324688</td>\n",
       "    </tr>\n",
       "    <tr>\n",
       "      <th>std</th>\n",
       "      <td>15.416502</td>\n",
       "      <td>1.011204</td>\n",
       "      <td>904.729899</td>\n",
       "      <td>15733.984142</td>\n",
       "      <td>4871.396099</td>\n",
       "      <td>0.440586</td>\n",
       "      <td>0.500201</td>\n",
       "      <td>0.351352</td>\n",
       "      <td>0.468483</td>\n",
       "    </tr>\n",
       "    <tr>\n",
       "      <th>min</th>\n",
       "      <td>3.000000</td>\n",
       "      <td>0.000000</td>\n",
       "      <td>0.000000</td>\n",
       "      <td>0.000000</td>\n",
       "      <td>0.000000</td>\n",
       "      <td>0.000000</td>\n",
       "      <td>0.000000</td>\n",
       "      <td>0.000000</td>\n",
       "      <td>0.000000</td>\n",
       "    </tr>\n",
       "    <tr>\n",
       "      <th>25%</th>\n",
       "      <td>42.000000</td>\n",
       "      <td>0.000000</td>\n",
       "      <td>0.000000</td>\n",
       "      <td>9276.000000</td>\n",
       "      <td>0.000000</td>\n",
       "      <td>0.000000</td>\n",
       "      <td>0.000000</td>\n",
       "      <td>1.000000</td>\n",
       "      <td>0.000000</td>\n",
       "    </tr>\n",
       "    <tr>\n",
       "      <th>50%</th>\n",
       "      <td>55.000000</td>\n",
       "      <td>0.000000</td>\n",
       "      <td>0.000000</td>\n",
       "      <td>19425.000000</td>\n",
       "      <td>0.000000</td>\n",
       "      <td>0.000000</td>\n",
       "      <td>1.000000</td>\n",
       "      <td>1.000000</td>\n",
       "      <td>0.000000</td>\n",
       "    </tr>\n",
       "    <tr>\n",
       "      <th>75%</th>\n",
       "      <td>63.000000</td>\n",
       "      <td>1.000000</td>\n",
       "      <td>0.000000</td>\n",
       "      <td>30000.000000</td>\n",
       "      <td>1209.000000</td>\n",
       "      <td>1.000000</td>\n",
       "      <td>1.000000</td>\n",
       "      <td>1.000000</td>\n",
       "      <td>1.000000</td>\n",
       "    </tr>\n",
       "    <tr>\n",
       "      <th>max</th>\n",
       "      <td>99.000000</td>\n",
       "      <td>5.000000</td>\n",
       "      <td>28000.000000</td>\n",
       "      <td>64800.000000</td>\n",
       "      <td>50000.000000</td>\n",
       "      <td>1.000000</td>\n",
       "      <td>1.000000</td>\n",
       "      <td>1.000000</td>\n",
       "      <td>1.000000</td>\n",
       "    </tr>\n",
       "  </tbody>\n",
       "</table>\n",
       "</div>"
      ],
      "text/plain": [
       "               YOB         NKID         DOUTL         DAINC          SINC  \\\n",
       "count  1041.000000  1041.000000   1041.000000   1041.000000   1041.000000   \n",
       "mean     50.873199     0.610951    124.318924  21063.792507   1988.863593   \n",
       "std      15.416502     1.011204    904.729899  15733.984142   4871.396099   \n",
       "min       3.000000     0.000000      0.000000      0.000000      0.000000   \n",
       "25%      42.000000     0.000000      0.000000   9276.000000      0.000000   \n",
       "50%      55.000000     0.000000      0.000000  19425.000000      0.000000   \n",
       "75%      63.000000     1.000000      0.000000  30000.000000   1209.000000   \n",
       "max      99.000000     5.000000  28000.000000  64800.000000  50000.000000   \n",
       "\n",
       "               BAD  RES(binary)  AES(binary)         KIDS  \n",
       "count  1041.000000  1041.000000  1041.000000  1041.000000  \n",
       "mean      0.263208     0.506244     0.855908     0.324688  \n",
       "std       0.440586     0.500201     0.351352     0.468483  \n",
       "min       0.000000     0.000000     0.000000     0.000000  \n",
       "25%       0.000000     0.000000     1.000000     0.000000  \n",
       "50%       0.000000     1.000000     1.000000     0.000000  \n",
       "75%       1.000000     1.000000     1.000000     1.000000  \n",
       "max       1.000000     1.000000     1.000000     1.000000  "
      ]
     },
     "execution_count": 15,
     "metadata": {},
     "output_type": "execute_result"
    }
   ],
   "source": [
    "df_train_final.describe()"
   ]
  },
  {
   "cell_type": "code",
   "execution_count": 16,
   "id": "6f92f492",
   "metadata": {},
   "outputs": [
    {
     "data": {
      "image/png": "[encoded data removed]",
      "text/plain": [
       "<Figure size 1000x800 with 2 Axes>"
      ]
     },
     "metadata": {},
     "output_type": "display_data"
    }
   ],
   "source": [
    "# Compute the correlation matrix\n",
    "corr_matrix = df_train_final.drop(columns=['AES','RES']).corr(method='spearman')\n",
    "\n",
    "# Plot the heatmap\n",
    "plt.figure(figsize=(10, 8))\n",
    "sns.heatmap(corr_matrix, annot=True, fmt=\".2f\", cmap='coolwarm', vmin=-1, vmax=1)\n",
    "plt.title('Spearman Correlation Heatmap of Numerical Variables', fontsize=16)\n",
    "plt.tight_layout()\n",
    "plt.show()"
   ]
  },
  {
   "cell_type": "markdown",
   "id": "798f63d7",
   "metadata": {},
   "source": [
    "## Final Data Sets"
   ]
  },
  {
   "cell_type": "code",
   "execution_count": 17,
   "id": "c51153e6",
   "metadata": {},
   "outputs": [],
   "source": [
    "# Exporting the resulting data sets\n",
    "df_train_final.to_csv('./Data/Train_Data_Set.csv', index=False)\n",
    "df_test_final.to_csv('./Data/Test_Data_Set.csv', index=False)\n",
    "df_val_final.to_csv('./Data/Val_Data_Set.csv', index=False)"
   ]
  }
 ],
 "metadata": {
  "kernelspec": {
   "display_name": ".venv",
   "language": "python",
   "name": "python3"
  },
  "language_info": {
   "codemirror_mode": {
    "name": "ipython",
    "version": 3
   },
   "file_extension": ".py",
   "mimetype": "text/x-python",
   "name": "python",
   "nbconvert_exporter": "python",
   "pygments_lexer": "ipython3",
   "version": "3.12.7"
  }
 },
 "nbformat": 4,
 "nbformat_minor": 5
}
