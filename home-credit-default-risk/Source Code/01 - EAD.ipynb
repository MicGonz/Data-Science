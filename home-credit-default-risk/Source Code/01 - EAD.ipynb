{
 "cells": [
  {
   "cell_type": "markdown",
   "id": "911f08e3",
   "metadata": {},
   "source": [
    "# 01 -  EAD"
   ]
  },
  {
   "cell_type": "code",
   "execution_count": 1,
   "id": "08a42e99",
   "metadata": {},
   "outputs": [],
   "source": [
    "import pandas as pd\n",
    "import modin.pandas as mpd\n",
    "import polars as pl\n",
    "import numpy as np\n",
    "import matplotlib\n",
    "from matplotlib import pyplot as plt\n",
    "import seaborn as sns\n",
    "import logging\n",
    "logging.getLogger().setLevel(logging.CRITICAL)"
   ]
  },
  {
   "cell_type": "code",
   "execution_count": 2,
   "id": "eedcd0d6",
   "metadata": {},
   "outputs": [
    {
     "name": "stdout",
     "output_type": "stream",
     "text": [
      "pandas: 2.2.2\n",
      "numpy: 2.0.2\n",
      "matplotlib: 3.9.4\n",
      "seaborn: 0.13.2\n",
      "logging: 0.5.1.2\n"
     ]
    }
   ],
   "source": [
    "# Packages version\n",
    "print(f'pandas: {pd.__version__}')\n",
    "print(f'numpy: {np.__version__}')\n",
    "print(f'matplotlib: {matplotlib.__version__}')\n",
    "print(f'seaborn: {sns.__version__}')\n",
    "print(f'logging: {logging.__version__}')"
   ]
  },
  {
   "cell_type": "markdown",
   "id": "bf8d7c2b",
   "metadata": {},
   "source": [
    "# 📈 **Home Credit Default Risk**\n",
    "\n",
    "This project applies the **CRISP-DM** (*Cross-Industry Standard Process for Data Mining*) methodology to build and evaluate a credit risk scoring model. The process is structured in the following phases:\n",
    "\n",
    "- **🔎 Business Understanding**  \n",
    "  Define objectives and understand the business problem of assessing credit risk.\n",
    "\n",
    "- **📊 Data Understanding**  \n",
    "  Collect, describe, and explore the dataset to identify data quality issues and gain initial insights.\n",
    "\n",
    "- **🛠️ Data Preparation**  \n",
    "  Clean and transform data, engineer features, and create the final modeling dataset.\n",
    "\n",
    "- **🤖 Modeling**  \n",
    "  Train and optimize predictive models to assess credit risk scores.\n",
    "\n",
    "- **✅ Evaluation**  \n",
    "  Assess model performance against business goals using appropriate metrics.\n",
    "\n",
    "- **🚀 Deployment**  \n",
    "  Prepare the model for production use, enabling integration into decision-making workflows. **(Will not be contemplated in this project)**\n"
   ]
  },
  {
   "cell_type": "markdown",
   "id": "c1bb0251",
   "metadata": {},
   "source": [
    "## **🔎 Business Understanding**\n",
    "\n",
    "Available on: https://kaggle.com/competitions/home-credit-default-risk.\n",
    "\n",
    "---\n",
    "### **Overview (Kaggle)**:\n",
    "\n",
    "---\n",
    "\n",
    "Many people struggle to get loans due to insufficient or non-existent credit histories. And, unfortunately, this population is often taken advantage of by untrustworthy lenders.\n",
    "\n",
    "Home Credit Group\n",
    "Home Credit strives to broaden financial inclusion for the unbanked population by providing a positive and safe borrowing experience. In order to make sure this underserved population has a positive loan experience, Home Credit makes use of a variety of alternative data--including telco and transactional information--to predict their clients' repayment abilities.\n",
    "\n",
    "While Home Credit is currently using various statistical and machine learning methods to make these predictions, they're challenging Kagglers to help them unlock the full potential of their data. Doing so will ensure that clients capable of repayment are not rejected and that loans are given with a principal, maturity, and repayment calendar that will empower their clients to be successful.  \n",
    "\n",
    "---\n",
    "### **Context**:\n",
    "\n",
    "---\n"
   ]
  },
  {
   "cell_type": "code",
   "execution_count": 3,
   "id": "c1db737c",
   "metadata": {},
   "outputs": [],
   "source": [
    "# Reading the .csv files to compose the DataBase\n",
    "\n",
    "df_application_train = pd.read_csv('../Data/application_train.csv')\n",
    "df_application_test = pd.read_csv('../Data/application_test.csv')\n",
    "df_bureau_balance = pd.read_csv('../Data/bureau_balance.csv')\n",
    "df_bureau = pd.read_csv('../Data/bureau.csv')\n",
    "df_credit_card_balance = pd.read_csv('../Data/credit_card_balance.csv')\n",
    "df_HomeCredit_columns_description = pd.read_csv('../Data/HomeCredit_columns_description.csv', encoding='latin1')\n",
    "df_installments_payments = pd.read_csv('../Data/installments_payments.csv')\n",
    "df_POS_CASH_balance = pd.read_csv('../Data/POS_CASH_balance.csv')\n",
    "df_previous_application = pd.read_csv('../Data/previous_application.csv')\n",
    "df_sample_submission = pd.read_csv('../Data/sample_submission.csv')"
   ]
  },
  {
   "cell_type": "markdown",
   "id": "8cfb016f",
   "metadata": {},
   "source": [
    "<p align=\"center\">\n",
    "  <img src=\"../utils/diagram_.png\" width=\"800\"/>\n",
    "  <br>\n",
    "  <em>Figure: Relational structure of the Home Credit dataset.</em>\n",
    "</p>"
   ]
  }
 ],
 "metadata": {
  "kernelspec": {
   "display_name": ".venv",
   "language": "python",
   "name": "python3"
  },
  "language_info": {
   "codemirror_mode": {
    "name": "ipython",
    "version": 3
   },
   "file_extension": ".py",
   "mimetype": "text/x-python",
   "name": "python",
   "nbconvert_exporter": "python",
   "pygments_lexer": "ipython3",
   "version": "3.9.6"
  }
 },
 "nbformat": 4,
 "nbformat_minor": 5
}
